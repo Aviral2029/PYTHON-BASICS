{
  "nbformat": 4,
  "nbformat_minor": 0,
  "metadata": {
    "colab": {
      "provenance": []
    },
    "kernelspec": {
      "name": "python3",
      "display_name": "Python 3"
    },
    "language_info": {
      "name": "python"
    }
  },
  "cells": [
    {
      "cell_type": "markdown",
      "source": [
        "##     **PYTHON BASICS**\n",
        "\n",
        "\n",
        "\n"
      ],
      "metadata": {
        "id": "SpRtxX-ACUTo"
      }
    },
    {
      "cell_type": "code",
      "execution_count": null,
      "metadata": {
        "id": "EFxbtEgVBf-Y"
      },
      "outputs": [],
      "source": []
    },
    {
      "cell_type": "markdown",
      "source": [
        "# Python Basics Questions\n",
        "\n",
        "1.  What is Python, and why is it popular?\n",
        "-- Python is a high- level programing language, its know for simplicity and readability. its was created by Guido van rossum in 1991.\n",
        "Python are easy to learn, large commynity support,large ecosystm of libraries and also very important for your data science and Ai enggerniering.\n",
        "\n",
        "\n",
        "\n",
        "---\n",
        "\n",
        "\n",
        "\n",
        "\n",
        "\n",
        "2. What is an interpreter in Python?\n",
        "-- A interpreter is the program that execute python code line rather than compiling the entire code a once. There are some type of pyhton interpreter\n",
        "\n",
        "\n",
        "*   CPython\n",
        "*   Jython\n",
        "*   IronPython\n",
        "*   MicroPython\n",
        "\n",
        "\n",
        "\n",
        "---\n",
        "\n",
        "3. What are pre-defined keywords in Python?\n",
        "-- In python there are some pre-defined keywords they reserved words that have special meaning and work in python . you cannot use then as variable name, funtion name or identifier. some exapmle of keyword are --\n",
        "\n",
        "\n",
        "*   Keyword\t    --- ---- Description\n",
        "*   False ----- ---- Boolean false value\n",
        "*   None  ----- ---- Represents a null value\n",
        "*   break ----- ---- its a loop early\n",
        "*   class ----- ---- Defines a class\n",
        "\n",
        "---\n",
        "\n",
        "4. Can keywords be used as variable names?\n",
        "-- No we cannot use keywords as variable because keywords has own special meaning in language and using  keywords them as variable they show syntax error. For example --\n",
        "\n",
        "\n",
        "\n"
      ],
      "metadata": {
        "id": "s3MUcKzjCvSI"
      }
    },
    {
      "cell_type": "code",
      "source": [
        "if = 10  #  SyntaxError: invalid syntax\n",
        "def = \"hello\"  #  SyntaxError: invalid syntax\n",
        "\n",
        "print(if)\n",
        "print(def)\n"
      ],
      "metadata": {
        "colab": {
          "base_uri": "https://localhost:8080/",
          "height": 106
        },
        "id": "EgWXO_QBQM5c",
        "outputId": "00e61d2a-3b0f-4d9d-dfb4-896c91e26971"
      },
      "execution_count": null,
      "outputs": [
        {
          "output_type": "error",
          "ename": "SyntaxError",
          "evalue": "invalid syntax (<ipython-input-1-309f4602970f>, line 1)",
          "traceback": [
            "\u001b[0;36m  File \u001b[0;32m\"<ipython-input-1-309f4602970f>\"\u001b[0;36m, line \u001b[0;32m1\u001b[0m\n\u001b[0;31m    if = 10  #  SyntaxError: invalid syntax\u001b[0m\n\u001b[0m       ^\u001b[0m\n\u001b[0;31mSyntaxError\u001b[0m\u001b[0;31m:\u001b[0m invalid syntax\n"
          ]
        }
      ]
    },
    {
      "cell_type": "markdown",
      "source": [
        "---\n",
        "5.  What is mutability in Python?\n",
        "-- Mutability in python is reffer to an object can be change or modified after crete any object and program . there are some type of data type of muttable in python --\n",
        "\n",
        "\n",
        "*   List\n",
        "*   dictionary\n",
        "*   set\n",
        "\n",
        "---\n",
        "6. Why are lists mutable, but tuples are immutable?\n",
        "-- Reason why list are mutable --\n",
        "\n",
        "\n",
        "*   List are designed for dynamic operation and they allow adding removing\n",
        "and modifying element easily, list are reserve extra spaces for future  changes\n",
        "\n",
        "--Reason why tuple are immutable--\n",
        "\n",
        "\n",
        "*   tuple are immutable beacause they have no extra space for future changes and they are important for data and safety they reducing accident\n",
        "\n",
        "\n",
        "---\n",
        "\n",
        "7.  What is the difference between “==” and “is” operators in Python?\n",
        "-- The '==' (Equality operator) are check whether the value of two object are equal or not.\n",
        "\n",
        "\n",
        "\n",
        "\n"
      ],
      "metadata": {
        "id": "u-dqu4ROQb-s"
      }
    },
    {
      "cell_type": "code",
      "source": [
        "a = [1, 2, 3]\n",
        "b = [1, 2, 3]\n",
        "\n",
        "print(a == b)  # True (values are equal)"
      ],
      "metadata": {
        "colab": {
          "base_uri": "https://localhost:8080/"
        },
        "id": "CAsv7ssaV_h1",
        "outputId": "4f598a0d-4db5-4e53-dcfd-c16c4338e7e6"
      },
      "execution_count": null,
      "outputs": [
        {
          "output_type": "stream",
          "name": "stdout",
          "text": [
            "True\n"
          ]
        }
      ]
    },
    {
      "cell_type": "markdown",
      "source": [
        "-- The 'is' (Identity Operator) are check whether the two value refer to the same memory. for example"
      ],
      "metadata": {
        "id": "Yoqtun5KWIZ_"
      }
    },
    {
      "cell_type": "code",
      "source": [
        "x = [1, 2, 3]\n",
        "y = x  # y references the same object as x\n",
        "\n",
        "print(x is y)  #  True (both reference the same object in memory)"
      ],
      "metadata": {
        "colab": {
          "base_uri": "https://localhost:8080/"
        },
        "id": "08ljM2rEWrP8",
        "outputId": "3bb41b34-ea42-49d9-c156-fd422b358b31"
      },
      "execution_count": null,
      "outputs": [
        {
          "output_type": "stream",
          "name": "stdout",
          "text": [
            "True\n"
          ]
        }
      ]
    },
    {
      "cell_type": "markdown",
      "source": [
        "---\n",
        "8.What are logical operators in Python?\n",
        "\n",
        "-- Logical operators are used in python for make a decisions they used to combine boolean expression(True/False) to make decisions in conditional statement. for example\n",
        "\n",
        "*   and ----- ----- (5 > 3) and (10 > 5) ➝ True\n",
        "*   or  ----- -----  (5 > 3) or (10 < 5) ➝ True\n",
        "*   not ----- ----- not(5 > 3) ➝ False\n",
        "\n",
        "---\n",
        "9. What is type casting in Python?\n",
        "--Type casting or type convertion in pyhton is the process of converting a variable from one data type to another.\n",
        "\n",
        "*   There are two types of type casting in Python:\n",
        "\n",
        "* Implicit Type Casting (done automatically by Python)\n",
        "* Explicit Type Casting (manually done by the programmer)\n",
        "\n",
        "\n"
      ],
      "metadata": {
        "id": "hp9p6H_WQse9"
      }
    },
    {
      "cell_type": "code",
      "source": [
        "# Example of implicit type casting(they automatically by python)\n",
        "\n",
        "a = 10         #Integer\n",
        "b = 5.6        #Float\n",
        "\n",
        "result = (a + b)  # Python automatically convert 'a' integer into float\n",
        "print(result)     # Output: 15.6\n",
        "print(type(result))  # Output: <class 'float'>\n"
      ],
      "metadata": {
        "colab": {
          "base_uri": "https://localhost:8080/"
        },
        "id": "9jPSfwBucKAV",
        "outputId": "69219e85-4587-434a-fb75-759377a31fee"
      },
      "execution_count": null,
      "outputs": [
        {
          "output_type": "stream",
          "name": "stdout",
          "text": [
            "15.6\n",
            "<class 'float'>\n"
          ]
        }
      ]
    },
    {
      "cell_type": "code",
      "source": [
        "# Example of expilicit type casting(you convert one data type to another by mannaually)\n",
        "\n",
        "a = 5.8\n",
        "b = int(a)  # Convert float to int\n",
        "print(b)  # Output: 5 (decimal part is removed)\n"
      ],
      "metadata": {
        "colab": {
          "base_uri": "https://localhost:8080/"
        },
        "id": "qIn3UtUsdNma",
        "outputId": "484651ad-7aad-4554-bb94-32e76af01eca"
      },
      "execution_count": null,
      "outputs": [
        {
          "output_type": "stream",
          "name": "stdout",
          "text": [
            "5\n"
          ]
        }
      ]
    },
    {
      "cell_type": "markdown",
      "source": [
        "---\n",
        "10. What is the difference between implicit and explicit type casting?\n",
        "--The difference between implicit and explicit type casting are\n",
        "\n",
        "Implicit Type Casting:\n",
        "\n",
        "*   Done automatically by the compiler or interpreter.\n",
        "*   No loss of data or precision.\n",
        "*   Happens when converting from a smaller data type to a larger one (e.g., int → float).\n",
        "\n",
        "Explicit Type Casting:\n",
        "\n",
        "*   Done manually by the programmer using built-in functions like int(), float(), str(), etc.\n",
        "*   Can lead to data loss if converting from a larger to a smaller data type (e.g., float → int).\n",
        "*  Used when changing data types that Python doesn't convert automatically\n",
        "---\n",
        "\n",
        "11. What is the purpose of conditional statements in Python?\n",
        "\n",
        "--Conditional statements in Python allow a program to make decisions based on certain conditions. They control the flow of execution by executing different blocks of code depending on whether a condition is True or False.\n",
        "\n",
        "---\n",
        "12.How does the elif statement work?\n",
        "\n",
        "--The elif (short for \"else if\") statement in Python is used when you need to check multiple conditions in a structured way. It allows you to test several expressions sequentially, and the first one that evaluates to True will execute its corresponding block of code.\n"
      ],
      "metadata": {
        "id": "wQNoc0vtdqxR"
      }
    },
    {
      "cell_type": "code",
      "source": [
        "score = 75\n",
        "\n",
        "if score >= 90:\n",
        "    print(\"Grade: A\")\n",
        "elif score >= 80:\n",
        "    print(\"Grade: B\")\n",
        "elif score >= 70:\n",
        "    print(\"Grade: C\")\n",
        "else:\n",
        "    print(\"Grade: F\")\n"
      ],
      "metadata": {
        "colab": {
          "base_uri": "https://localhost:8080/"
        },
        "id": "QpfJsJ0va0Ui",
        "outputId": "29204b90-a5e3-4345-f552-dd3e2452a9a9"
      },
      "execution_count": 1,
      "outputs": [
        {
          "output_type": "stream",
          "name": "stdout",
          "text": [
            "Grade: C\n"
          ]
        }
      ]
    },
    {
      "cell_type": "markdown",
      "source": [
        "13. What is the difference between for and while loops?\n",
        "--Both for and while loops are used to execute a block of code multiple times, but they are used in different situations.\n",
        "\n",
        "\n",
        "\n",
        "> for Loop\n",
        "\n",
        "* Used when the number of iterations is known or when iterating over a sequence (list, tuple, string, range, etc.).\n",
        "* Runs a fixed number of times.\n",
        "* Uses an iterator (like a range or a collection).\n",
        "  \n",
        "> while Loop\n",
        "\n",
        "* Used when the number of iterations is unknown beforehand.\n",
        "* Runs as long as the condition is True.\n",
        "* Requires manual control of the loop variable.\n",
        "\n",
        "---\n",
        "\n",
        "14. Describe a scenario where a while loop is more suitable than a for loop?\n",
        "\n",
        "--Imagine you are building a simple login system where a user needs to enter the correct password to gain access. The number of attempts is unknown because the user might enter the wrong password multiple times.\n",
        "\n",
        "Since we don’t know in advance how many attempts the user will need, a while loop is the best choice."
      ],
      "metadata": {
        "id": "Y3JhtzkdXBk_"
      }
    },
    {
      "cell_type": "markdown",
      "source": [
        "#  Practical Questions\n",
        "\n",
        "1. Write a Python program to print \"Hello, World!\"\n"
      ],
      "metadata": {
        "id": "ymH8bEHEck32"
      }
    },
    {
      "cell_type": "code",
      "source": [
        "a = \"Hello, Wotld\"\n",
        "print(a)"
      ],
      "metadata": {
        "colab": {
          "base_uri": "https://localhost:8080/"
        },
        "id": "NmvPTUFBePuu",
        "outputId": "b45fa188-b97c-49ed-fb7a-d87a25eb16a5"
      },
      "execution_count": 2,
      "outputs": [
        {
          "output_type": "stream",
          "name": "stdout",
          "text": [
            "Hello, Wotld\n"
          ]
        }
      ]
    },
    {
      "cell_type": "markdown",
      "source": [
        "2. Write a Python program that displays your name and age."
      ],
      "metadata": {
        "id": "EzborL85ebEM"
      }
    },
    {
      "cell_type": "code",
      "source": [
        "# write the name and age in variable\n",
        "name = \"aviral\"\n",
        "age  = 20\n",
        "\n",
        "# print all the variable\n",
        "print(name)\n",
        "print(age)"
      ],
      "metadata": {
        "colab": {
          "base_uri": "https://localhost:8080/"
        },
        "id": "u2Xuk0iQehnQ",
        "outputId": "3b94c48d-8673-4978-9cb7-5bf46f5dc58b"
      },
      "execution_count": 3,
      "outputs": [
        {
          "output_type": "stream",
          "name": "stdout",
          "text": [
            "aviral\n",
            "20\n"
          ]
        }
      ]
    },
    {
      "cell_type": "markdown",
      "source": [
        "3.Write code to print all the pre-defined keywords in Python using the keyword library."
      ],
      "metadata": {
        "id": "uDgbbqLyesqv"
      }
    },
    {
      "cell_type": "code",
      "source": [
        "# first we import the keywords\n",
        "import keyword\n",
        "\n",
        "# we get the list from all python keywords\n",
        "keywords = keyword.kwlist\n",
        "\n",
        "# print all the keywords\n",
        "for keyword in keywords:\n",
        "    print(keyword)"
      ],
      "metadata": {
        "colab": {
          "base_uri": "https://localhost:8080/"
        },
        "id": "0XkKfLbDfR7G",
        "outputId": "cc7ba7d8-ed7c-4a9e-9a1b-fe8b350030ca"
      },
      "execution_count": 5,
      "outputs": [
        {
          "output_type": "stream",
          "name": "stdout",
          "text": [
            "False\n",
            "None\n",
            "True\n",
            "and\n",
            "as\n",
            "assert\n",
            "async\n",
            "await\n",
            "break\n",
            "class\n",
            "continue\n",
            "def\n",
            "del\n",
            "elif\n",
            "else\n",
            "except\n",
            "finally\n",
            "for\n",
            "from\n",
            "global\n",
            "if\n",
            "import\n",
            "in\n",
            "is\n",
            "lambda\n",
            "nonlocal\n",
            "not\n",
            "or\n",
            "pass\n",
            "raise\n",
            "return\n",
            "try\n",
            "while\n",
            "with\n",
            "yield\n"
          ]
        }
      ]
    },
    {
      "cell_type": "markdown",
      "source": [
        "4. Write a program that checks if a given word is a Python keyword.\n"
      ],
      "metadata": {
        "id": "ylzjD3IbfzKS"
      }
    },
    {
      "cell_type": "code",
      "source": [
        "# first we import the keywords\n",
        "import keyword\n",
        "\n",
        "# we get the list from all python keywords\n",
        "keywords = keyword.kwlist\n",
        "\n",
        "# we get input from user\n",
        "user_input = input(\"Enter your key words to check then: \")\n",
        "\n",
        "if user_input in keywords:\n",
        "    print(f\"your {user_input} is python pre-defined keyword\")\n",
        "else:\n",
        "    print(f\"your {user_input} is not python pre-defined keyword\")"
      ],
      "metadata": {
        "colab": {
          "base_uri": "https://localhost:8080/"
        },
        "id": "ho723dpof7Zz",
        "outputId": "b9ba8b8e-ef21-4cd4-b842-8122c8cd8e3b"
      },
      "execution_count": 9,
      "outputs": [
        {
          "output_type": "stream",
          "name": "stdout",
          "text": [
            "Enter your key words to check then: as\n",
            "your as is python pre-defined keyword\n"
          ]
        }
      ]
    },
    {
      "cell_type": "markdown",
      "source": [
        "5. Create a list and tuple in Python, and demonstrate how attempting to change an element works differently\n",
        "for each.\n"
      ],
      "metadata": {
        "id": "XmnhdX4yhjAe"
      }
    },
    {
      "cell_type": "code",
      "source": [
        "  # Creating a list\n",
        "my_list = [10, 20, 30]\n",
        "\n",
        "# Creating a tuple\n",
        "my_tuple = (10, 20, 30)\n",
        "\n",
        "print(\"Original List:\", my_list)\n",
        "print(\"Original Tuple:\", my_tuple)\n"
      ],
      "metadata": {
        "colab": {
          "base_uri": "https://localhost:8080/"
        },
        "id": "MyEikvc7hr47",
        "outputId": "c2ef03d6-f7cc-4c78-ed71-e6882f925c2c"
      },
      "execution_count": 10,
      "outputs": [
        {
          "output_type": "stream",
          "name": "stdout",
          "text": [
            "Original List: [10, 20, 30]\n",
            "Original Tuple: (10, 20, 30)\n"
          ]
        }
      ]
    },
    {
      "cell_type": "code",
      "source": [
        "my_list[1] = 99  # Changing the second element\n",
        "print(\"Modified List:\", my_list)\n"
      ],
      "metadata": {
        "colab": {
          "base_uri": "https://localhost:8080/"
        },
        "id": "N9YQ5vtyiJ-s",
        "outputId": "dfccc863-cc32-4663-b3a0-1301cfbf9230"
      },
      "execution_count": 11,
      "outputs": [
        {
          "output_type": "stream",
          "name": "stdout",
          "text": [
            "Modified List: [10, 99, 30]\n"
          ]
        }
      ]
    },
    {
      "cell_type": "code",
      "source": [
        "my_tuple[1] = 99  # Trying to change the second element\n"
      ],
      "metadata": {
        "colab": {
          "base_uri": "https://localhost:8080/",
          "height": 141
        },
        "id": "IKo1FMp9iL1U",
        "outputId": "3600964e-0352-4d2c-ad88-05bad1bda2dd"
      },
      "execution_count": 12,
      "outputs": [
        {
          "output_type": "error",
          "ename": "TypeError",
          "evalue": "'tuple' object does not support item assignment",
          "traceback": [
            "\u001b[0;31m---------------------------------------------------------------------------\u001b[0m",
            "\u001b[0;31mTypeError\u001b[0m                                 Traceback (most recent call last)",
            "\u001b[0;32m<ipython-input-12-6d94aab62b72>\u001b[0m in \u001b[0;36m<cell line: 0>\u001b[0;34m()\u001b[0m\n\u001b[0;32m----> 1\u001b[0;31m \u001b[0mmy_tuple\u001b[0m\u001b[0;34m[\u001b[0m\u001b[0;36m1\u001b[0m\u001b[0;34m]\u001b[0m \u001b[0;34m=\u001b[0m \u001b[0;36m99\u001b[0m  \u001b[0;31m# Trying to change the second element\u001b[0m\u001b[0;34m\u001b[0m\u001b[0;34m\u001b[0m\u001b[0m\n\u001b[0m",
            "\u001b[0;31mTypeError\u001b[0m: 'tuple' object does not support item assignment"
          ]
        }
      ]
    },
    {
      "cell_type": "code",
      "source": [
        "# TypeError: 'tuple' object does not support item assignment"
      ],
      "metadata": {
        "id": "_qZTKtYOihad"
      },
      "execution_count": null,
      "outputs": []
    },
    {
      "cell_type": "markdown",
      "source": [
        "6. Write a function to demonstrate the behavior of mutable and immutable arguments.\n"
      ],
      "metadata": {
        "id": "219Z2sHZiosY"
      }
    },
    {
      "cell_type": "code",
      "source": [
        "# Immutable Example (Integer)\n",
        "num = 5\n",
        "print(\"Before:\", num)\n",
        "num += 10  # Creates a new integer object\n",
        "print(\"After:\", num)  # Original 'num' is not modified, it gets a new value\n",
        "\n",
        "print(\"\\n\")\n",
        "\n",
        "# Immutable Example (String)\n",
        "text = \"Hello\"\n",
        "print(\"Before:\", text)\n",
        "text += \" World\"  # Creates a new string object\n",
        "print(\"After:\", text)  # Original 'text' is not modified, it gets a new value\n",
        "\n",
        "print(\"\\n\")\n",
        "\n",
        "# Mutable Example (List)\n",
        "my_list = [1, 2, 3]\n",
        "print(\"Before:\", my_list)\n",
        "my_list.append(4)  # Modifies the existing list\n",
        "print(\"After:\", my_list)  # The original 'my_list' is changed\n"
      ],
      "metadata": {
        "colab": {
          "base_uri": "https://localhost:8080/"
        },
        "id": "IJWEXVNCj1Dz",
        "outputId": "30cb5c6d-2787-4c1c-a292-192096eab41b"
      },
      "execution_count": 14,
      "outputs": [
        {
          "output_type": "stream",
          "name": "stdout",
          "text": [
            "Before: 5\n",
            "After: 15\n",
            "\n",
            "\n",
            "Before: Hello\n",
            "After: Hello World\n",
            "\n",
            "\n",
            "Before: [1, 2, 3]\n",
            "After: [1, 2, 3, 4]\n"
          ]
        }
      ]
    },
    {
      "cell_type": "markdown",
      "source": [
        "7. Write a program that performs basic arithmetic operations on two user-input numbers.\n"
      ],
      "metadata": {
        "id": "tTSsBYNdkSVn"
      }
    },
    {
      "cell_type": "code",
      "source": [
        "from __future__ import division\n",
        "# get input from user\n",
        "num1 = int(input(\"Enter your first number: \"))\n",
        "num2 = int(input(\"Enter your second number: \"))\n",
        "\n",
        "# create a basic arithmetic operation on two user - input\n",
        "\n",
        "additional = num1 + num2\n",
        "subtraction = num1 - num2\n",
        "multiply  = num1 * num2\n",
        "\n",
        "# to avoid divesion by zero\n",
        "if num2 != 0:\n",
        "  division  = num1 / num2\n",
        "else:\n",
        "  division = \"Cannot divide by zero\"\n",
        "\n",
        "print(\"result\")\n",
        "print(\"additional:\", additional)\n",
        "print(\"subtraction:\", subtraction)\n",
        "print(\"multiply:\", multiply)\n",
        "print(\"division:\", division)"
      ],
      "metadata": {
        "colab": {
          "base_uri": "https://localhost:8080/"
        },
        "id": "1IGSOq4ckVYf",
        "outputId": "4a85a0e4-d089-427f-fe53-60b16d1e6b41"
      },
      "execution_count": 15,
      "outputs": [
        {
          "output_type": "stream",
          "name": "stdout",
          "text": [
            "Enter your first number: 34\n",
            "Enter your second number: 23\n",
            "result\n",
            "additional: 57\n",
            "subtraction: 11\n",
            "multiply: 782\n",
            "division: 1.4782608695652173\n"
          ]
        }
      ]
    },
    {
      "cell_type": "markdown",
      "source": [
        "8.  Write a program to demonstrate the use of logical operators.\n",
        "\n"
      ],
      "metadata": {
        "id": "KRkAXanBlp4j"
      }
    },
    {
      "cell_type": "code",
      "source": [
        "# Get user input\n",
        "num1 = int(input(\"Enter first number: \"))\n",
        "num2 = int(input(\"Enter second number: \"))\n",
        "\n",
        "# Logical AND: True if both conditions are True\n",
        "and_result = (num1 > 0) and (num2 > 0)\n",
        "\n",
        "# Logical OR: True if at least one condition is True\n",
        "or_result = (num1 % 2 == 0) or (num2 % 2 == 0)\n",
        "\n",
        "# Logical NOT: Reverses the result (True becomes False and vice versa)\n",
        "not_result = not(num1 == num2)\n",
        "\n",
        "# Display results\n",
        "print(\"\\nResults:\")\n",
        "print(f\"Both numbers are positive (AND): {and_result}\")\n",
        "print(f\"At least one number is even (OR): {or_result}\")\n",
        "print(f\"Numbers are not equal (NOT): {not_result}\")\n"
      ],
      "metadata": {
        "colab": {
          "base_uri": "https://localhost:8080/"
        },
        "id": "Zz9zNUityygs",
        "outputId": "bd833994-857f-4fb6-c0a3-b9baf6cceb66"
      },
      "execution_count": 16,
      "outputs": [
        {
          "output_type": "stream",
          "name": "stdout",
          "text": [
            "Enter first number: 34\n",
            "Enter second number: 34\n",
            "\n",
            "Results:\n",
            "Both numbers are positive (AND): True\n",
            "At least one number is even (OR): True\n",
            "Numbers are not equal (NOT): False\n"
          ]
        }
      ]
    },
    {
      "cell_type": "markdown",
      "source": [
        "9. Write a Python program to convert user input from string to integer, float, and boolean types.\n"
      ],
      "metadata": {
        "id": "wOdMA7lay4xF"
      }
    },
    {
      "cell_type": "code",
      "source": [
        "# take input from user\n",
        "user_input = input(\"enter the valid value: \")\n",
        "\n",
        "\n",
        "# convert into another data type\n",
        "print(int(user_input))\n",
        "print(float(user_input))\n",
        "print(bool(user_input))\n"
      ],
      "metadata": {
        "colab": {
          "base_uri": "https://localhost:8080/"
        },
        "id": "mjBOM1Ffzd9d",
        "outputId": "344777f0-7c75-4999-b88a-51eb837481f2"
      },
      "execution_count": 17,
      "outputs": [
        {
          "output_type": "stream",
          "name": "stdout",
          "text": [
            "enter the valid value: 2\n",
            "2\n",
            "2.0\n",
            "True\n"
          ]
        }
      ]
    },
    {
      "cell_type": "markdown",
      "source": [
        "10. Write code to demonstrate type casting with list elements.\n"
      ],
      "metadata": {
        "id": "K8XqdQTG4H_J"
      }
    },
    {
      "cell_type": "code",
      "source": [
        "# create a list\n",
        "my_list = [1, 2, 3.3, \"hello\", 5,True]\n",
        "\n",
        "# convert into another data type\n",
        "print(int(my_list[0]))\n",
        "print(float(my_list[2]))\n",
        "print(bool(my_list[4]))\n",
        "\n",
        "\n"
      ],
      "metadata": {
        "colab": {
          "base_uri": "https://localhost:8080/"
        },
        "id": "jrdt4AxY4geY",
        "outputId": "78e453d3-cc52-4572-9ba3-bc9b2144bfd5"
      },
      "execution_count": 19,
      "outputs": [
        {
          "output_type": "stream",
          "name": "stdout",
          "text": [
            "1\n",
            "3.3\n",
            "True\n"
          ]
        }
      ]
    },
    {
      "cell_type": "markdown",
      "source": [
        "11. Write a program that checks if a number is positive, negative, or zero."
      ],
      "metadata": {
        "id": "pQ_vfxXG5s0Z"
      }
    },
    {
      "cell_type": "code",
      "source": [
        "# first we take the input from user\n",
        "user_input = int(input(\"Enter your number: \"))\n",
        "\n",
        "if user_input > 0:\n",
        "    print(\"your number is positive\")\n",
        "elif user_input < 0:\n",
        "    print(\"your number is negative\")\n",
        "else:\n",
        "    print(\"your number is zero\")\n",
        ""
      ],
      "metadata": {
        "colab": {
          "base_uri": "https://localhost:8080/"
        },
        "id": "B_8BE2AP5yUk",
        "outputId": "3158dd08-2447-402f-d47c-2ef8f469b247"
      },
      "execution_count": 20,
      "outputs": [
        {
          "output_type": "stream",
          "name": "stdout",
          "text": [
            "Enter your number: 0\n",
            "your number is zero\n"
          ]
        }
      ]
    },
    {
      "cell_type": "markdown",
      "source": [
        "12.  Write a for loop to print numbers from 1 to 10.\n"
      ],
      "metadata": {
        "id": "XkInSrZZ6kEf"
      }
    },
    {
      "cell_type": "code",
      "source": [
        "# craete a loop to print 1 to 10 number\n",
        "for i in range(1, 11):\n",
        "    print(i)"
      ],
      "metadata": {
        "colab": {
          "base_uri": "https://localhost:8080/"
        },
        "id": "GJ6oCtWd6pp2",
        "outputId": "323e19bf-1547-40a9-cdf4-d4113b4cc371"
      },
      "execution_count": 21,
      "outputs": [
        {
          "output_type": "stream",
          "name": "stdout",
          "text": [
            "1\n",
            "2\n",
            "3\n",
            "4\n",
            "5\n",
            "6\n",
            "7\n",
            "8\n",
            "9\n",
            "10\n"
          ]
        }
      ]
    },
    {
      "cell_type": "markdown",
      "source": [
        "13. Write a Python program to find the sum of all even numbers between 1 and 50."
      ],
      "metadata": {
        "id": "jp92Dqox6z7N"
      }
    },
    {
      "cell_type": "code",
      "source": [
        "# first we create a list of all even number\n",
        "even_number = list(range(2,51,2))\n",
        "total_sum = sum(even_number)\n",
        "\n",
        "print(\"even_numer:\",even_number)\n",
        "print(\"total_sum:\",total_sum)\n"
      ],
      "metadata": {
        "colab": {
          "base_uri": "https://localhost:8080/"
        },
        "id": "eUKBBLuj677V",
        "outputId": "e3934c05-b9ed-4ae2-de83-d1f3522eb779"
      },
      "execution_count": 27,
      "outputs": [
        {
          "output_type": "stream",
          "name": "stdout",
          "text": [
            "even_numer: [2, 4, 6, 8, 10, 12, 14, 16, 18, 20, 22, 24, 26, 28, 30, 32, 34, 36, 38, 40, 42, 44, 46, 48, 50]\n",
            "total_sum: 650\n"
          ]
        }
      ]
    },
    {
      "cell_type": "markdown",
      "source": [
        "14. Write a program to reverse a string using a while loop.\n"
      ],
      "metadata": {
        "id": "x9a0jULE8Lm1"
      }
    },
    {
      "cell_type": "code",
      "source": [
        "text = input(\"Enter a string: \")\n",
        "\n",
        "reversed_text = \"\"\n",
        "i = len(text) - 1\n",
        "\n",
        "while i >= 0:\n",
        "    reversed_text += text[i]\n",
        "    i -= 1\n",
        "\n",
        "print(\"Reversed String:\", reversed_text)\n"
      ],
      "metadata": {
        "colab": {
          "base_uri": "https://localhost:8080/"
        },
        "id": "8OZK3qYg8bMy",
        "outputId": "cd7890c8-2225-4f0e-9f3d-bbbe730b767f"
      },
      "execution_count": 28,
      "outputs": [
        {
          "output_type": "stream",
          "name": "stdout",
          "text": [
            "Enter a string: aviral\n",
            "Reversed String: lariva\n"
          ]
        }
      ]
    },
    {
      "cell_type": "markdown",
      "source": [
        "15.  Write a Python program to calculate the factorial of a number provided by the user using a while loop.\n"
      ],
      "metadata": {
        "id": "eltEqLFk-dFm"
      }
    },
    {
      "cell_type": "code",
      "source": [
        "num = int(input(\"Enter a number: \"))  # Get input from the user\n",
        "factorial = 1\n",
        "i = num\n",
        "\n",
        "while i > 0:\n",
        "    factorial *= i  # Multiply current value\n",
        "    i -= 1  # Decrease i\n",
        "\n",
        "print(\"Factorial of\", num, \"is\", factorial)\n"
      ],
      "metadata": {
        "colab": {
          "base_uri": "https://localhost:8080/"
        },
        "id": "PBphYfOJ_0qM",
        "outputId": "eabfb4cb-374d-47a7-98d2-975691ce60eb"
      },
      "execution_count": 29,
      "outputs": [
        {
          "output_type": "stream",
          "name": "stdout",
          "text": [
            "Enter a number: 7\n",
            "Factorial of 7 is 5040\n"
          ]
        }
      ]
    }
  ]
}